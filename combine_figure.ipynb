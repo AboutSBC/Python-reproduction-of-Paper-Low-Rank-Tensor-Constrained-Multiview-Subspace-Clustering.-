{
 "cells": [
  {
   "cell_type": "code",
   "execution_count": 1,
   "metadata": {},
   "outputs": [
    {
     "name": "stdout",
     "output_type": "stream",
     "text": [
      "heatmap图片合并完成！\n"
     ]
    }
   ],
   "source": [
    "from PIL import Image\n",
    "from PIL import Image,ImageDraw,ImageFont\n",
    "import os\n",
    "\n",
    "# 加载所有PNG图片（假设图片在同一个目录下）\n",
    "image_files = [f\"./output_png/{i}.png\" for i in range(1, 9)]\n",
    "images = [Image.open(img) for img in image_files]\n",
    "width, height = images[0].size\n",
    "label_height = int(height /10)\n",
    "merged_image = Image.new('RGB', (4 * width, 2 * height+label_height), color='white')\n",
    "for i, img in enumerate(images):\n",
    "    row = i // 4 \n",
    "    col = i % 4 \n",
    "    merged_image.paste(img, (col * width, row * height))\n",
    "column_labels = [\"(a) ORL\", \"(b) Yale\", \"(c) COIL-20\", \"(d) Extended YaleB\"] \n",
    "draw = ImageDraw.Draw(merged_image)\n",
    "try:\n",
    "    font = ImageFont.truetype(\"arial.ttf\", 30)\n",
    "except:\n",
    "    font = ImageFont.load_default()\n",
    "for col in range(4):\n",
    "    x = col * width  + width//2\n",
    "    y = 2 * height + label_height // 2\n",
    "    draw.text((x, y), column_labels[col], fill=\"black\", font=font, anchor=\"mm\")\n",
    "\n",
    "merged_image.save(\"heatmap_output.png\")\n",
    "print(\"heatmap图片合并完成！\")\n",
    "#image_files = [f\"./output_png/{i}.png\" for i in range(9, 13)]\n",
    "#images = [Image.open(img) for img in image_files]\n",
    "#width, height = images[0].size\n",
    "#label_height = int(height /10)\n",
    "#merged_image = Image.new('RGB', (4 * width, height+label_height), color='white')\n",
    "#for i, img in enumerate(images):\n",
    "#    col = i % 4 \n",
    "#    merged_image.paste(img, (col * width, 0))\n",
    "#column_labels = [\"(a) ORL\", \"(b) COIL-20\", \"(c) Yale\", \"(d) Extended YaleB\"] \n",
    "#draw = ImageDraw.Draw(merged_image)\n",
    "#try:\n",
    "#    font = ImageFont.truetype(\"arial.ttf\", 30)\n",
    "#except:\n",
    "#    font = ImageFont.load_default()\n",
    "#for col in range(4):\n",
    "#    x = col * width  + width//2\n",
    "#    y = height + label_height // 2\n",
    "#    draw.text((x, y), column_labels[col], fill=\"black\", font=font, anchor=\"mm\")\n",
    "#merged_image.save(\"lamda_output.png\")\n",
    "#print(\"lamda图片合并完成！\")"
   ]
  },
  {
   "cell_type": "code",
   "execution_count": null,
   "metadata": {},
   "outputs": [],
   "source": []
  }
 ],
 "metadata": {
  "kernelspec": {
   "display_name": "pytorch",
   "language": "python",
   "name": "python3"
  },
  "language_info": {
   "codemirror_mode": {
    "name": "ipython",
    "version": 3
   },
   "file_extension": ".py",
   "mimetype": "text/x-python",
   "name": "python",
   "nbconvert_exporter": "python",
   "pygments_lexer": "ipython3",
   "version": "3.10.15"
  }
 },
 "nbformat": 4,
 "nbformat_minor": 4
}
